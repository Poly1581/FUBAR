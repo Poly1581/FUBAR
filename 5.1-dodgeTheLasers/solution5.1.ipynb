{
 "cells": [
  {
   "cell_type": "code",
   "execution_count": 1,
   "id": "1c01d807-5729-446c-bfa4-33b1c572ef6f",
   "metadata": {},
   "outputs": [],
   "source": [
    "import math\n",
    "from decimal import *"
   ]
  },
  {
   "cell_type": "code",
   "execution_count": 8,
   "id": "e9b4e1c1-bb49-4f69-9c78-339e9fff9bed",
   "metadata": {},
   "outputs": [],
   "source": [
    "def iterative(n):\n",
    "    r = math.sqrt(2)\n",
    "    s = 2+math.sqrt(2)\n",
    "    p = 1\n",
    "    total = 0\n",
    "    while n > 0:\n",
    "        total += p * (math.floor(n*r)*(math.floor(n*r)+1))//2\n",
    "        n = math.floor(math.floor(n*r)/s)\n",
    "        total -= p * n * (n+1)\n",
    "        p = -p\n",
    "    return math.trunc(total)\n",
    "\n",
    "def iterativeSolution(str_n):\n",
    "    return str(iterative(int(str_n)))\n",
    "\n",
    "def recursiveSolution(str_n):\n",
    "    r = math.sqrt(2)\n",
    "    s = 2 + r\n",
    "    return str(recursive(int(str_n), r, s))\n",
    "\n",
    "def recursive(n,r,s):\n",
    "    if n <= 1:\n",
    "        return n\n",
    "    N = math.floor(2*n/r)\n",
    "    m = math.floor((N+1)/s)\n",
    "    return (N*(N+1))//2 - m*(m+1) - recursive(m, r, s)"
   ]
  },
  {
   "cell_type": "code",
   "execution_count": 9,
   "id": "dd904660-b877-473c-9324-de75bf9f447b",
   "metadata": {},
   "outputs": [
    {
     "name": "stdout",
     "output_type": "stream",
     "text": [
      "SOLUTION(5) = 19\n",
      "\tTEST PASSED\n",
      "SOLUTION(77) = 4208\n",
      "\tTEST PASSED\n",
      "SOLUTION(100) = 7092\n",
      "\tTEST PASSED\n",
      "SOLUTION(1000000) = 707106988293\n",
      "\tTEST PASSED\n"
     ]
    }
   ],
   "source": [
    "#TEST CASES\n",
    "inputs = [\"5\", \"77\", \"100\", \"1000000\"]\n",
    "expected = [\"19\", \"4208\", \"7092\", \"707106988293\"]\n",
    "for i,e in zip(inputs, expected):\n",
    "    a = recursiveSolution(i)\n",
    "    print(f\"SOLUTION({i}) = {a}\")\n",
    "    if a == e:\n",
    "        print(\"\\tTEST PASSED\")\n",
    "    else:\n",
    "        print(f\"\\tTEST FAILED, EXPECTED {e}\")"
   ]
  },
  {
   "cell_type": "code",
   "execution_count": 10,
   "id": "56c60a01-b887-43a2-99f2-5f7c29aed9a9",
   "metadata": {},
   "outputs": [
    {
     "name": "stdout",
     "output_type": "stream",
     "text": [
      "70710678118654750137209464893756489664282528908927448077495338816220205099787725059874554667652483864909496054855492044098629130629740634370082827683252053667898210120735991631921374343849262239831454\n"
     ]
    }
   ],
   "source": [
    "i = \"10000000000000000000000000000000000000000000000000000000000000000000000000000000000000000000000000000\"\n",
    "print(recursiveSolution(i))"
   ]
  },
  {
   "cell_type": "markdown",
   "id": "1107e977-5921-49d5-9d0a-660fb0a08b8c",
   "metadata": {},
   "source": [
    "#The problem is asking us to efficiently calculate partial sums of beatty sequences with r = sqrt(2).\n",
    "#An efficient solution stems from the Rayleigh-Beatty theorem stating that all positive numbers belong\n",
    "#to either B_r or B_s. B_r is the Beatty sequence generated from sqrt(2). B_s is the Beatty sequence\n",
    "#generated from s = r/(r-1). As a result, sum_i=1^n(i) (or the triangular numbers) can be broken down\n",
    "#into two sums, one over terms of B_s and one over terms of B_r. Luckily, in this specific case\n",
    "#(though I suspect a similar process can be executed for other irrational r values), s = 2+sqrt(2).\n",
    "#This can be confirmed (or derived) with some basic algebra. This allows us to further describe\n",
    "#partial sums of B_s in terms of partial sums of B_r since floor(i(2+sqrt(2))) = floor(2i+sqrt(2)i)\n",
    "#= 2i + floor(sqrt(2)i). Overall, this lets us determine that S_n = (N(N+1))/2 - m(m+1) - S_m\n",
    "#Where S_n is the partial sum of the beatty sequence of r from i = 1 to n, N = floor(nr) (the largest\n",
    "#term to be summed in S_n), m = floor(N/s) (the highest value of i in S_m), and S_m is the partial \n",
    "#sum of the beatty sequence of r from i = 1 to n.\n",
    "#\n",
    "#Now that we have a theoretical solution, we can start to think about a practical solution -\n",
    "#that is to say a solution function. This is the part that was most annoying for me, though in the\n",
    "#end, I grew to appreciate the process as it allowed me to apply concepts from my numerical \n",
    "#analysis classes that I have only been able to apply sparingly. First, we have to consider that,\n",
    "#given our limited precision in calculating sqrt(2), it is generally unwise to multiply sqrt(2) by a \n",
    "#large value. Instead, we can multiply by 2/sqrt(2) = sqrt(2), which will generally be more accurate.\n",
    "#Additionally, we can get a more precise value for sqrt(2) by using the decimal library in python,\n",
    "#though this, without numerical considerations would not be enough. Finally, we have to consider that \n",
    "#most of the nubmers computed will be massive, and therefore it would be inappropriate to use floor\n",
    "#or trunc, and we should instead directly convert to long. All of these considerations will allow\n",
    "#accurate coputations.\n",
    "\n",
    "from decimal import *\n",
    "#Recursive function for calculating partial sum of beatty sequence\n",
    "def recursive(n, r, s):\n",
    "    if n <= 1:\n",
    "        return n\n",
    "    #Avoid truncating - just convert to long\n",
    "    N = long((2*n)/r)\n",
    "    m = long(N/s)\n",
    "    return (N*(N+1))//2 - m*(m+1) - recursive(m,r,s)\n",
    "#Iterative function for calculating partial sum of beatty sequence\n",
    "def iterative(n, r, s):\n",
    "    #Keep track of parity (negative or positive) when calculating sum\n",
    "    p = 1\n",
    "    #Make sure to use long instead of int\n",
    "    total = long(0)\n",
    "    while n > 0:\n",
    "        N = long((2*n)/r)\n",
    "        total += p * (N*(N+1))//2\n",
    "        n = long(N/s)\n",
    "        total -= p * n*(n+1)\n",
    "        p = -p\n",
    "    return total\n",
    "def solution(str_n):\n",
    "    #Increase precision\n",
    "    getcontext().prec = 10000\n",
    "    r = Decimal(2).sqrt()\n",
    "    #Use 2+sqrt(2) to avoid computation issues associated with r/(r-1)\n",
    "    s = Decimal(2) + r\n",
    "    #Call auxilliary function (either recursive or iterative)\n",
    "    return str(iterative(long(str_n), r, s))"
   ]
  },
  {
   "cell_type": "code",
   "execution_count": null,
   "id": "941f076d-5bf3-4747-9025-a253480316e8",
   "metadata": {},
   "outputs": [],
   "source": []
  }
 ],
 "metadata": {
  "kernelspec": {
   "display_name": "Python 2",
   "language": "python",
   "name": "python2"
  },
  "language_info": {
   "codemirror_mode": {
    "name": "ipython",
    "version": 3
   },
   "file_extension": ".py",
   "mimetype": "text/x-python",
   "name": "python",
   "nbconvert_exporter": "python",
   "pygments_lexer": "ipython3",
   "version": "3.10.12"
  }
 },
 "nbformat": 4,
 "nbformat_minor": 5
}
