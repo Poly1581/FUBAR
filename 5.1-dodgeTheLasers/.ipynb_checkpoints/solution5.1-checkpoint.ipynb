{
 "cells": [
  {
   "cell_type": "code",
   "execution_count": 48,
   "id": "1c01d807-5729-446c-bfa4-33b1c572ef6f",
   "metadata": {},
   "outputs": [],
   "source": [
    "import math\n",
    "from decimal import *"
   ]
  },
  {
   "cell_type": "code",
   "execution_count": 76,
   "id": "e9b4e1c1-bb49-4f69-9c78-339e9fff9bed",
   "metadata": {},
   "outputs": [],
   "source": [
    "# def solution(str_n):\n",
    "#     r = math.sqrt(2)\n",
    "#     s = r/(r-1)\n",
    "#     maxR = int(str_n)\n",
    "#     maxTerm = math.floor(maxR*r)\n",
    "#     sumT = (maxTerm * (maxTerm + 1))/2\n",
    "#     maxS = math.floor(maxTerm/s)\n",
    "#     sumS = sum([math.floor((i+1)*s) for i in range(maxS)])\n",
    "#     sumR = sumT - sumS\n",
    "#     return str(int(sumR))\n",
    "# def solution(str_n):\n",
    "#     r = math.sqrt(2)\n",
    "#     s = r/(r-1)\n",
    "#     maxR = int(str_n)\n",
    "#     maxTerm = math.floor(maxR*r)\n",
    "#     sumT = (maxTerm * (maxTerm + 1))/2\n",
    "#     maxS = math.floor(maxTerm/s)\n",
    "#     sumS = 0\n",
    "#     i = 1\n",
    "#     termS = math.floor(i*s)\n",
    "#     while termS < maxTerm:\n",
    "#         sumS += termS\n",
    "#         i += 1\n",
    "#         termS = math.floor(i*s)\n",
    "#     sumR = sumT - sumS\n",
    "#     print(f\"sumT: {sumT}, sumS: {sumS}, sumR: {sumR}\")\n",
    "#     return str(int(sumR))\n",
    "def iterative(n):\n",
    "    r = math.sqrt(2)\n",
    "    s = 2+math.sqrt(2)\n",
    "    p = 1\n",
    "    total = 0\n",
    "    while n > 0:\n",
    "        total += p * (math.floor(n*r)*(math.floor(n*r)+1))//2\n",
    "        n = math.floor(math.floor(n*r)/s)\n",
    "        total -= p * n * (n+1)\n",
    "        p = -p\n",
    "    return math.trunc(total)\n",
    "\n",
    "def iterativeSolution(str_n):\n",
    "    return str(iterative(int(str_n)))\n",
    "\n",
    "def recursiveSolution(str_n):\n",
    "    r = math.sqrt(2)\n",
    "    s = 2 + r\n",
    "    return str(newRecursive(int(str_n), r, s))\n",
    "\n",
    "def recursive(n,r,s):\n",
    "    if n <= 1:\n",
    "        return n\n",
    "    N = math.floor(2*n/r)\n",
    "    m = math.floor((N+1)/s)\n",
    "    return (N*(N+1))//2 - m*(m+1) - newRecursive(m, r, s)"
   ]
  },
  {
   "cell_type": "code",
   "execution_count": 77,
   "id": "dd904660-b877-473c-9324-de75bf9f447b",
   "metadata": {},
   "outputs": [
    {
     "name": "stdout",
     "output_type": "stream",
     "text": [
      "SOLUTION(5) = 19\n",
      "\tTEST PASSED\n",
      "SOLUTION(77) = 4208\n",
      "\tTEST PASSED\n",
      "SOLUTION(100) = 7092\n",
      "\tTEST PASSED\n",
      "SOLUTION(1000000) = 707106988293\n",
      "\tTEST PASSED\n"
     ]
    }
   ],
   "source": [
    "#TEST CASES\n",
    "inputs = [\"5\", \"77\", \"100\", \"1000000\"]\n",
    "expected = [\"19\", \"4208\", \"7092\", \"707106988293\"]\n",
    "for i,e in zip(inputs, expected):\n",
    "    a = recursiveSolution(i)\n",
    "    print(f\"SOLUTION({i}) = {a}\")\n",
    "    if a == e:\n",
    "        print(\"\\tTEST PASSED\")\n",
    "    else:\n",
    "        print(f\"\\tTEST FAILED, EXPECTED {e}\")"
   ]
  },
  {
   "cell_type": "code",
   "execution_count": 78,
   "id": "6b74293c-3fac-422b-a429-f95431e932cd",
   "metadata": {},
   "outputs": [
    {
     "name": "stdout",
     "output_type": "stream",
     "text": [
      "SOLUTION(5) = 22\n",
      "\tTEST FAILED, EXPECTED 19\n",
      "SOLUTION(77) = 4635\n",
      "\tTEST FAILED, EXPECTED 4208\n",
      "SOLUTION(100) = 7835\n",
      "\tTEST FAILED, EXPECTED 7092\n",
      "SOLUTION(1000000) = 780330321093\n",
      "\tTEST FAILED, EXPECTED 707106988293\n"
     ]
    }
   ],
   "source": [
    "#TEST CASES\n",
    "inputs = [\"5\", \"77\", \"100\", \"1000000\"]\n",
    "expected = [\"19\", \"4208\", \"7092\", \"707106988293\"]\n",
    "for i,e in zip(inputs, expected):\n",
    "    a = newRecursiveSolution(i)\n",
    "    print(f\"SOLUTION({i}) = {a}\")\n",
    "    if a == e:\n",
    "        print(\"\\tTEST PASSED\")\n",
    "    else:\n",
    "        print(f\"\\tTEST FAILED, EXPECTED {e}\")"
   ]
  },
  {
   "cell_type": "code",
   "execution_count": 79,
   "id": "56c60a01-b887-43a2-99f2-5f7c29aed9a9",
   "metadata": {},
   "outputs": [
    {
     "name": "stdout",
     "output_type": "stream",
     "text": [
      "70710678118654762918671719563974800309988000489594927238762740623334454799900865868322841295764671886699005107538948796905443105160816546484489956497876385604423566328993199785949245318770347324346413\n",
      "78033008588991062574819028466340310396801645613671379800278775031366860300141808238272210440597255333868102637387018716706464820654219684094253611432172701186363070949525102137569373236974961955248933\n"
     ]
    }
   ],
   "source": [
    "i = \"10000000000000000000000000000000000000000000000000000000000000000000000000000000000000000000000000000\"\n",
    "print(recursiveSolution(i))\n",
    "print(newRecursiveSolution(i))"
   ]
  },
  {
   "cell_type": "code",
   "execution_count": null,
   "id": "da885755-ca25-47fd-a6b3-3f0feb6f5c0c",
   "metadata": {},
   "outputs": [],
   "source": []
  }
 ],
 "metadata": {
  "kernelspec": {
   "display_name": "Python 2",
   "language": "python",
   "name": "python2"
  },
  "language_info": {
   "codemirror_mode": {
    "name": "ipython",
    "version": 3
   },
   "file_extension": ".py",
   "mimetype": "text/x-python",
   "name": "python",
   "nbconvert_exporter": "python",
   "pygments_lexer": "ipython3",
   "version": "3.10.12"
  }
 },
 "nbformat": 4,
 "nbformat_minor": 5
}
