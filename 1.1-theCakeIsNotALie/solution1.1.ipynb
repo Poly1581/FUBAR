{
 "cells": [
  {
   "cell_type": "code",
   "execution_count": 9,
   "id": "6caf53dd-e23e-4014-a733-0f4c7eddb563",
   "metadata": {},
   "outputs": [],
   "source": [
    "#iteratively expand substring and check validity\n",
    "def solution(candies):\n",
    "    substring = \"\"\n",
    "    for l in range(1,len(candies)):\n",
    "        substring += candies[l-1]\n",
    "        if len(candies) % l == 0:\n",
    "            if substring * (len(candies)//l) == candies:\n",
    "                return len(candies)//l\n",
    "    return 1"
   ]
  },
  {
   "cell_type": "code",
   "execution_count": 10,
   "id": "2e04cdf2-b02e-4b6f-a26a-1d84e4f89733",
   "metadata": {},
   "outputs": [
    {
     "name": "stdout",
     "output_type": "stream",
     "text": [
      "solution(\"abccbaabccba\") = 2\n",
      "TEST PASSED\n",
      "solution(\"abcabcabcabc\") = 4\n",
      "TEST PASSED\n",
      "solution(\"abcde\") = 1\n",
      "TEST PASSED\n"
     ]
    }
   ],
   "source": [
    "inputs = [\"abccbaabccba\", \"abcabcabcabc\", \"abcde\"]\n",
    "expected = [2, 4, 1]\n",
    "actual = [solution(i) for i in inputs]\n",
    "for (i,e,a) in zip(inputs,expected,actual):\n",
    "    print(f\"solution(\\\"{i}\\\") = {a}\")\n",
    "    if e == a:\n",
    "        print(\"TEST PASSED\")\n",
    "    else:\n",
    "        print(\"TEST FAILED\")"
   ]
  },
  {
   "cell_type": "markdown",
   "id": "c72319cd-70e8-4d39-8a9b-25a99760fa4f",
   "metadata": {},
   "source": [
    "In each iteration, we:<br>\n",
    "1. Add one character to the current substring<br>\n",
    "    1. O(1) time complexity<br>\n",
    "2. Check if the length of the substring divides the length of candies<br>\n",
    "    1. O(1) time complexity<br>\n",
    "3. Check if substring divides candies only if the length of the substring divides the length of candies<br>\n",
    "    1. O(len(candies)) time complexity<br>"
   ]
  }
 ],
 "metadata": {
  "kernelspec": {
   "display_name": "Python 2",
   "language": "python",
   "name": "python2"
  },
  "language_info": {
   "codemirror_mode": {
    "name": "ipython",
    "version": 3
   },
   "file_extension": ".py",
   "mimetype": "text/x-python",
   "name": "python",
   "nbconvert_exporter": "python",
   "pygments_lexer": "ipython3",
   "version": "3.10.12"
  }
 },
 "nbformat": 4,
 "nbformat_minor": 5
}
