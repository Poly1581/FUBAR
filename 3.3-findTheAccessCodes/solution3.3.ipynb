{
 "cells": [
  {
   "cell_type": "code",
   "execution_count": 14,
   "id": "d0042b22-3e32-4276-b2e2-4fd8638932d6",
   "metadata": {},
   "outputs": [],
   "source": [
    "def solution(l):\n",
    "    luckyTriples = 0\n",
    "    prevDivisors = {}\n",
    "    for k,lk in enumerate(l):\n",
    "        divisors = []\n",
    "        for j,lj in enumerate(l[:k]):\n",
    "            if lk % lj == 0:\n",
    "                divisors.append(j)\n",
    "        luckyTriples += sum([prevDivisors[i] for i in divisors])\n",
    "        prevDivisors[k] = len(divisors)\n",
    "    return luckyTriples"
   ]
  },
  {
   "cell_type": "code",
   "execution_count": 15,
   "id": "31210c10-19c2-4628-8620-9bea7f80f1a9",
   "metadata": {},
   "outputs": [
    {
     "name": "stdout",
     "output_type": "stream",
     "text": [
      "solution([1, 1, 1]) == 1\n",
      "\tTEST PASSED\n",
      "solution([1, 2, 3, 4, 5, 6]) == 3\n",
      "\tTEST PASSED\n"
     ]
    }
   ],
   "source": [
    "#TEST CASES:\n",
    "inputs = [[1, 1, 1], [1, 2, 3, 4, 5, 6]]\n",
    "expected = [1,3]\n",
    "for i,e in zip(inputs, expected):\n",
    "    a = solution(i)\n",
    "    print(f\"solution({i}) == {a}\")\n",
    "    if a == e:\n",
    "        print(\"\\tTEST PASSED\")\n",
    "    else:\n",
    "        print(f\"\\tTEST FAILED, EXPECTED {e}\")"
   ]
  },
  {
   "cell_type": "code",
   "execution_count": null,
   "id": "81e4b9a1-0b92-494d-b7c3-b23a254c1557",
   "metadata": {},
   "outputs": [],
   "source": []
  }
 ],
 "metadata": {
  "kernelspec": {
   "display_name": "Python 2",
   "language": "python",
   "name": "python2"
  },
  "language_info": {
   "codemirror_mode": {
    "name": "ipython",
    "version": 3
   },
   "file_extension": ".py",
   "mimetype": "text/x-python",
   "name": "python",
   "nbconvert_exporter": "python",
   "pygments_lexer": "ipython3",
   "version": "3.10.12"
  }
 },
 "nbformat": 4,
 "nbformat_minor": 5
}
