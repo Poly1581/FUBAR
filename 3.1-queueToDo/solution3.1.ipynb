{
 "cells": [
  {
   "cell_type": "code",
   "execution_count": 67,
   "id": "8352603c-d67e-4311-8146-dac38bf3cc26",
   "metadata": {},
   "outputs": [],
   "source": [
    "def seqXOR(n):\n",
    "    return ((n % 2 == 0) * n) + ((n % 4) % 3 > 0)\n",
    "def rangeXOR(l,r):\n",
    "    return seqXOR(l-1) ^ seqXOR(r)\n",
    "def solution(start, length):\n",
    "    xor = 0\n",
    "    for row in range(length):\n",
    "        print(f\"\\t\\tstart: {start}, end: {start + length - row -1}, row: {list(range(start, start + length - row))}, xor: {rangeXOR(start, start + length - row - 1)}\")\n",
    "        xor ^= rangeXOR(start, start + length - row - 1)\n",
    "        start += length\n",
    "    return xor"
   ]
  },
  {
   "cell_type": "code",
   "execution_count": 68,
   "id": "705cdc0a-8f12-4f25-9fa0-be8f6a5e748b",
   "metadata": {},
   "outputs": [
    {
     "name": "stdout",
     "output_type": "stream",
     "text": [
      "\t\tstart: 0, end: 2, row: [0, 1, 2], xor: 3\n",
      "\t\tstart: 3, end: 4, row: [3, 4], xor: 7\n",
      "\t\tstart: 6, end: 6, row: [6], xor: 6\n",
      "solution(0,3) = 2\n",
      "\tTEST PASSED\n",
      "\t\tstart: 17, end: 20, row: [17, 18, 19, 20], xor: 4\n",
      "\t\tstart: 21, end: 23, row: [21, 22, 23], xor: 20\n",
      "\t\tstart: 25, end: 26, row: [25, 26], xor: 3\n",
      "\t\tstart: 29, end: 29, row: [29], xor: 29\n",
      "solution(17,4) = 14\n",
      "\tTEST PASSED\n"
     ]
    }
   ],
   "source": [
    "#TEST CASES\n",
    "inputs = [(0,3), (17,4)]\n",
    "expected = [2, 14]\n",
    "for (i,e) in zip(inputs, expected):\n",
    "    a = solution(i[0], i[1])\n",
    "    print(f\"solution({i[0]},{i[1]}) = {a}\")\n",
    "    if a == e:\n",
    "        print(\"\\tTEST PASSED\")\n",
    "    else:\n",
    "        print(f\"\\tTEST FAILED, EXPECTED {e}\")"
   ]
  },
  {
   "cell_type": "code",
   "execution_count": 72,
   "id": "074ccd76-40e3-4c02-91b6-f4f62e21fb59",
   "metadata": {},
   "outputs": [
    {
     "data": {
      "text/plain": [
       "4"
      ]
     },
     "execution_count": 72,
     "metadata": {},
     "output_type": "execute_result"
    }
   ],
   "source": [
    "seqXOR(4)"
   ]
  },
  {
   "cell_type": "code",
   "execution_count": null,
   "id": "7953df57-b1ae-40a6-8198-daf7beb80249",
   "metadata": {},
   "outputs": [],
   "source": []
  }
 ],
 "metadata": {
  "kernelspec": {
   "display_name": "Python 2",
   "language": "python",
   "name": "python2"
  },
  "language_info": {
   "codemirror_mode": {
    "name": "ipython",
    "version": 3
   },
   "file_extension": ".py",
   "mimetype": "text/x-python",
   "name": "python",
   "nbconvert_exporter": "python",
   "pygments_lexer": "ipython3",
   "version": "3.10.12"
  }
 },
 "nbformat": 4,
 "nbformat_minor": 5
}
