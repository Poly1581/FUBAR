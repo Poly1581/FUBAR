{
 "cells": [
  {
   "cell_type": "code",
   "execution_count": 78,
   "id": "bf5d7c27-4238-41c8-beb2-585bd156f74c",
   "metadata": {},
   "outputs": [],
   "source": [
    "def printPath(path):\n",
    "    maxLen = len(str(max([max(row) for row in path])))\n",
    "    width = len(path)*maxLen + len(path) + 1\n",
    "    for row in path:\n",
    "        print(\"-\"*width)\n",
    "        print(\"|\"+\"|\".join([str(capacity).center(maxLen) for capacity in row])+\"|\")\n",
    "    print(\"-\"*width)"
   ]
  },
  {
   "cell_type": "code",
   "execution_count": 84,
   "id": "ebf3275f-fd6f-4943-95e6-eed49cd57065",
   "metadata": {},
   "outputs": [],
   "source": [
    "#I will first augment the graph to add a single source and single drain (entrance and exit). The single\n",
    "#source will have paths to the original sources with weights of each source's total outward flow.\n",
    "#The new drain will have paths from the original drains in proportion to their total inbound flow.\n",
    "#In this way, we can use a single source and single drain algorithm unmodified.\n",
    "def cyclic(entrance, exit, path):\n",
    "    #Compute row of new source\n",
    "    sRow = []\n",
    "    for i, row in enumerate(path):\n",
    "        if i in entrance:\n",
    "            sRow.append(sum(path[i]))\n",
    "        else:\n",
    "            sRow.append(0)\n",
    "    #Compute col of new drain\n",
    "    dCol = [0]\n",
    "    for i in range(len(path)):\n",
    "        if i in exit:\n",
    "            dCol.append(sum([row[i] for row in path]))\n",
    "        else:\n",
    "            dCol.append(0)\n",
    "    #Add new rows and cols to path\n",
    "    path = [sRow] + path\n",
    "    path = [[0] + row + [dCol[i]] for i, row in enumerate(path)]\n",
    "    path = path + [[0]*len(path[0])]\n",
    "    printPath(path)\n",
    "    #Compute max flow from new source to new drain\n",
    "    source = 0\n",
    "    drain = len(path)-1\n",
    "    flow = 0\n",
    "    "
   ]
  },
  {
   "cell_type": "code",
   "execution_count": 85,
   "id": "3549c5db-0914-4e01-ba2c-526fad49e36c",
   "metadata": {},
   "outputs": [
    {
     "name": "stdout",
     "output_type": "stream",
     "text": [
      "TESTING PATH\n",
      "---------\n",
      "|0|7|0|0|\n",
      "---------\n",
      "|0|0|6|0|\n",
      "---------\n",
      "|0|0|0|8|\n",
      "---------\n",
      "|9|0|0|0|\n",
      "---------\n",
      "ENTRANCES: [0]\n",
      "EXITS: [3]\n",
      "s=>None\n",
      "\tTEST FAILED, EXPECTED 6\n",
      "TESTING PATH\n",
      "-------------\n",
      "|0|0|4|6|0|0|\n",
      "-------------\n",
      "|0|0|5|2|0|0|\n",
      "-------------\n",
      "|0|0|0|0|4|4|\n",
      "-------------\n",
      "|0|0|0|0|6|6|\n",
      "-------------\n",
      "|0|0|0|0|0|0|\n",
      "-------------\n",
      "|0|0|0|0|0|0|\n",
      "-------------\n",
      "ENTRANCES: [0, 1]\n",
      "EXITS: [4, 5]\n",
      "s=>None\n",
      "\tTEST FAILED, EXPECTED 16\n",
      "TESTING PATH\n",
      "---------\n",
      "|0|2|0|0|\n",
      "---------\n",
      "|0|0|3|0|\n",
      "---------\n",
      "|0|0|0|1|\n",
      "---------\n",
      "|0|0|0|0|\n",
      "---------\n",
      "ENTRANCES: [0]\n",
      "EXITS: [4]\n",
      "s=>None\n",
      "\tTEST FAILED, EXPECTED 2\n"
     ]
    }
   ],
   "source": [
    "#TEST CASES\n",
    "entrances = [[0], [0, 1], [0]]\n",
    "exits = [[3], [4, 5], [4]]\n",
    "paths = [[[0, 7, 0, 0], [0, 0, 6, 0], [0, 0, 0, 8], [9, 0, 0, 0]], [[0, 0, 4, 6, 0, 0], [0, 0, 5, 2, 0, 0], [0, 0, 0, 0, 4, 4], [0, 0, 0, 0, 6, 6], [0, 0, 0, 0, 0, 0], [0, 0, 0, 0, 0, 0]], [[0,2,0,0], [0,0,3,0], [0,0,0,1], [0,0,0,0]]]\n",
    "expected = [6, 16, 2]\n",
    "for entrance,exit,path,expect in zip(entrances,exits,paths,expected):\n",
    "    print(\"TESTING PATH\")\n",
    "    printPath(path)\n",
    "    print(f\"ENTRANCES: {entrance}\")\n",
    "    print(f\"EXITS: {exit}\")\n",
    "    actual = solution(entrance, exit, path)\n",
    "    print(f\"s=>{actual}\")\n",
    "    if actual == expect:\n",
    "        print(\"\\tTEST PASSED\")\n",
    "    else:\n",
    "        print(f\"\\tTEST FAILED, EXPECTED {expect}\")"
   ]
  },
  {
   "cell_type": "code",
   "execution_count": null,
   "id": "6eb4b2df-63be-470f-8fa3-0bc1157ccf81",
   "metadata": {},
   "outputs": [],
   "source": []
  },
  {
   "cell_type": "code",
   "execution_count": null,
   "id": "c8cb80ff-6b92-405c-89bd-73d85cd3c11d",
   "metadata": {},
   "outputs": [],
   "source": []
  }
 ],
 "metadata": {
  "kernelspec": {
   "display_name": "Python 2",
   "language": "python",
   "name": "python2"
  },
  "language_info": {
   "codemirror_mode": {
    "name": "ipython",
    "version": 3
   },
   "file_extension": ".py",
   "mimetype": "text/x-python",
   "name": "python",
   "nbconvert_exporter": "python",
   "pygments_lexer": "ipython3",
   "version": "3.10.12"
  }
 },
 "nbformat": 4,
 "nbformat_minor": 5
}
