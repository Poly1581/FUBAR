{
 "cells": [
  {
   "cell_type": "code",
   "execution_count": 2,
   "id": "38c685c5-d0f3-4802-a2f5-20db83106803",
   "metadata": {},
   "outputs": [],
   "source": [
    "key = \"b\"\n",
    "message = \"C0gfDBMMCQpCFhELUEgLCxUOGF4dERZSHwMAHBEIGRwWEQsRVwofDRUKARxVFh0RVwoKHx8dGAoW\\nEQsRVwYCGgIKCBBTXVQWXE9LGBMHBRxHVFxUHhtLWUpPSwxfXV5SGwoIXlxPSwtQU1NYBBxLWUpP\\nSwpQV1QWXE9LHx8AS1kLERZGGQFNXg0=\""
   ]
  },
  {
   "cell_type": "code",
   "execution_count": 8,
   "id": "59767328-b0f2-4ff5-8577-fa5dcd406ae9",
   "metadata": {},
   "outputs": [],
   "source": [
    "lines = [[char.lower() for char in list(line)] for line in message.split(\"\\n\")]"
   ]
  },
  {
   "cell_type": "code",
   "execution_count": 28,
   "id": "ec0d1cf1-de66-425e-b777-a913a013472b",
   "metadata": {},
   "outputs": [
    {
     "name": "stdout",
     "output_type": "stream",
     "text": [
      "{'success' : 'great', 'colleague' : 'esteemed', 'efforts' : 'incredible', 'achievement' : 'unlocked', 'rabbits' : 'safe', 'foo' : 'win!'}\n"
     ]
    }
   ],
   "source": [
    "import base64\n",
    "\n",
    "MESSAGE = \"C0gfDBMMCQpCFhELUEgLCxUOGF4dERZSHwMAHBEIGRwWEQsRVwofDRUKARxVFh0RVwoKHx8dGAoW\\nEQsRVwYCGgIKCBBTXVQWXE9LGBMHBRxHVFxUHhtLWUpPSwxfXV5SGwoIXlxPSwtQU1NYBBxLWUpP\\nSwpQV1QWXE9LHx8AS1kLERZGGQFNXg0=\"\n",
    "\n",
    "KEY = \"polypoly1111\"\n",
    "\n",
    "result = []\n",
    "for i, c in enumerate(base64.b64decode(MESSAGE)):\n",
    "    result.append(chr(c ^ ord(KEY[i % len(KEY)])))\n",
    "print(''.join(result))"
   ]
  }
 ],
 "metadata": {
  "kernelspec": {
   "display_name": "Python 3 (ipykernel)",
   "language": "python",
   "name": "python3"
  },
  "language_info": {
   "codemirror_mode": {
    "name": "ipython",
    "version": 3
   },
   "file_extension": ".py",
   "mimetype": "text/x-python",
   "name": "python",
   "nbconvert_exporter": "python",
   "pygments_lexer": "ipython3",
   "version": "3.10.12"
  }
 },
 "nbformat": 4,
 "nbformat_minor": 5
}
