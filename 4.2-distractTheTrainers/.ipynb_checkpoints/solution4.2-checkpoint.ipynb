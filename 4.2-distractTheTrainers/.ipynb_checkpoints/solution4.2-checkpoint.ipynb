{
 "cells": [
  {
   "cell_type": "code",
   "execution_count": 49,
   "id": "56a676bf-29b1-44b8-8ac2-b412fe6cefd8",
   "metadata": {},
   "outputs": [],
   "source": [
    "def terminates(bMin,bMax):\n",
    "    return not bMax % bMin and (bMax//bMin + 1).bit_count() == 1\n",
    "def solution(bananas):\n",
    "    remaining = []\n",
    "    bananas.sort()\n",
    "    for bMax in bananas:\n",
    "        pair = False\n",
    "        for bMin in remaining:\n",
    "            if not terminates(bMin, bMax):\n",
    "                remaining.remove(bMin)\n",
    "                pair = True\n",
    "                break\n",
    "        if not pair:\n",
    "            remaining.append(bMax)\n",
    "    return len(remaining)"
   ]
  },
  {
   "cell_type": "code",
   "execution_count": 50,
   "id": "f59306b9-3e8c-4d7b-9d79-9815511f2bbb",
   "metadata": {},
   "outputs": [
    {
     "name": "stdout",
     "output_type": "stream",
     "text": [
      "TESTING [1, 7, 3, 21, 13, 19]\n",
      "\tSOLUTION([1, 3, 7, 13, 19, 21]) = 0\n",
      "\tTEST PASSED\n",
      "TESTING [1, 1]\n",
      "\tSOLUTION([1, 1]) = 2\n",
      "\tTEST PASSED\n"
     ]
    }
   ],
   "source": [
    "#TEST CASES\n",
    "bananas = [[1, 7, 3, 21, 13, 19], [1,1]]\n",
    "trainers = [0, 2]\n",
    "for b,t in zip(bananas, trainers):\n",
    "    print(f\"TESTING {b}\")\n",
    "    a = solution(b)\n",
    "    print(f\"\\tSOLUTION({b}) = {a}\")\n",
    "    if a == t:\n",
    "        print(\"\\tTEST PASSED\")\n",
    "    else:\n",
    "        print(f\"\\tTEST FAILED, EXPECTED {t}\")"
   ]
  },
  {
   "cell_type": "markdown",
   "id": "17040269-a47d-4c7b-aea1-25a125b94f7e",
   "metadata": {},
   "source": [
    "Since we do not care which trainer has more or less bananas, we can simply keep track of the min and max:"
   ]
  },
  {
   "cell_type": "markdown",
   "id": "c5f17ba4-bc71-4d88-b399-9295518098b8",
   "metadata": {},
   "source": [
    "$$\n",
    "(Min, Max) \\Rightarrow\n",
    "\\begin{cases}\n",
    "    (2 \\cdot Min, Max-Min) & 3 \\cdot Min < Max\\\\\n",
    "    (Max-Min, Max-Min) & 3 \\cdot Min = Max\\\\\n",
    "    (Max - Min, 2 \\cdot Min) & 3 \\cdot min > Max\\\\\n",
    "\\end{cases}\n",
    "$$"
   ]
  },
  {
   "cell_type": "markdown",
   "id": "09987bfb-b183-4aec-a65b-c29d04cb2caa",
   "metadata": {},
   "source": [
    "Note that when $3 \\cdot Min = Max$, we terminate our process. The next question is wether we can ever have a case that terminates when $3 \\cdot Min > Max$."
   ]
  }
 ],
 "metadata": {
  "kernelspec": {
   "display_name": "Python 2",
   "language": "python",
   "name": "python2"
  },
  "language_info": {
   "codemirror_mode": {
    "name": "ipython",
    "version": 3
   },
   "file_extension": ".py",
   "mimetype": "text/x-python",
   "name": "python",
   "nbconvert_exporter": "python",
   "pygments_lexer": "ipython3",
   "version": "3.10.12"
  }
 },
 "nbformat": 4,
 "nbformat_minor": 5
}
