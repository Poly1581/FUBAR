{
 "cells": [
  {
   "cell_type": "code",
   "execution_count": 1,
   "id": "6d748798-e4d3-407f-822a-86d81ad6a152",
   "metadata": {},
   "outputs": [],
   "source": [
    "#BINARY SEARCH\n",
    "def solution(height, labels):\n",
    "    parents = [-1]*len(labels)\n",
    "    for i,label in enumerate(labels):\n",
    "        last = 0\n",
    "        l = 1\n",
    "        u = 2**height - 1\n",
    "        p = -1\n",
    "        m = l + (u-l)//2\n",
    "        print(f\"label: {label}, l = {l}, u = {u}, p = {p}, m = {m}, height = {height}\")\n",
    "        while l <= label and label < u and last != m:\n",
    "            p = u\n",
    "            last = m\n",
    "            if label < m:\n",
    "                u = m-1\n",
    "            else:\n",
    "                l = m\n",
    "                u -= 1\n",
    "            m = l + (u - l)//2\n",
    "            print(f\"label: {label}, l = {l}, u = {u}, p = {p}, m = {m}, height = {height}\")\n",
    "        parents[i] = p\n",
    "    return parents"
   ]
  },
  {
   "cell_type": "code",
   "execution_count": 2,
   "id": "b508b9c9-07ff-49d4-9606-6587a547330e",
   "metadata": {},
   "outputs": [
    {
     "name": "stdout",
     "output_type": "stream",
     "text": [
      "label: 19, l = 1, u = 31, p = -1, m = 16, height = 5\n",
      "label: 19, l = 16, u = 30, p = 31, m = 23, height = 5\n",
      "label: 19, l = 16, u = 22, p = 30, m = 19, height = 5\n",
      "label: 19, l = 19, u = 21, p = 22, m = 20, height = 5\n",
      "label: 19, l = 19, u = 19, p = 21, m = 19, height = 5\n",
      "label: 14, l = 1, u = 31, p = -1, m = 16, height = 5\n",
      "label: 14, l = 1, u = 15, p = 31, m = 8, height = 5\n",
      "label: 14, l = 8, u = 14, p = 15, m = 11, height = 5\n",
      "label: 28, l = 1, u = 31, p = -1, m = 16, height = 5\n",
      "label: 28, l = 16, u = 30, p = 31, m = 23, height = 5\n",
      "label: 28, l = 23, u = 29, p = 30, m = 26, height = 5\n",
      "label: 28, l = 26, u = 28, p = 29, m = 27, height = 5\n",
      "label: 7, l = 1, u = 7, p = -1, m = 4, height = 3\n",
      "label: 3, l = 1, u = 7, p = -1, m = 4, height = 3\n",
      "label: 3, l = 1, u = 3, p = 7, m = 2, height = 3\n",
      "label: 5, l = 1, u = 7, p = -1, m = 4, height = 3\n",
      "label: 5, l = 4, u = 6, p = 7, m = 5, height = 3\n",
      "label: 5, l = 5, u = 5, p = 6, m = 5, height = 3\n",
      "label: 1, l = 1, u = 7, p = -1, m = 4, height = 3\n",
      "label: 1, l = 1, u = 3, p = 7, m = 2, height = 3\n",
      "label: 1, l = 1, u = 1, p = 3, m = 1, height = 3\n",
      "solution(5, [19, 14, 28]) = [21, 15, 29]\n",
      "TEST PASSED\n",
      "solution(3, [7, 3, 5, 1]) = [-1, 7, 6, 3]\n",
      "TEST PASSED\n"
     ]
    }
   ],
   "source": [
    "#Test Cases\n",
    "inputs = [(5, [19, 14, 28]), (3, [7, 3, 5, 1])]\n",
    "expected = [[21, 15, 29], [-1,7,6,3]]\n",
    "for (i,e,a) in zip(inputs, expected, [solution(i[0], i[1]) for i in inputs]):\n",
    "    print(f\"solution({i[0]}, {i[1]}) = {a}\")\n",
    "    if e == a:\n",
    "        print(\"TEST PASSED\")\n",
    "    else:\n",
    "        print(f\"TEST FAILED, EXPECTED {e}\")"
   ]
  },
  {
   "cell_type": "code",
   "execution_count": null,
   "id": "6d60f493-1247-4271-84bb-8040c6c215dd",
   "metadata": {},
   "outputs": [],
   "source": []
  }
 ],
 "metadata": {
  "kernelspec": {
   "display_name": "Python 2",
   "language": "python",
   "name": "python2"
  },
  "language_info": {
   "codemirror_mode": {
    "name": "ipython",
    "version": 3
   },
   "file_extension": ".py",
   "mimetype": "text/x-python",
   "name": "python",
   "nbconvert_exporter": "python",
   "pygments_lexer": "ipython3",
   "version": "3.10.12"
  }
 },
 "nbformat": 4,
 "nbformat_minor": 5
}
